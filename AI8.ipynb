{
  "nbformat": 4,
  "nbformat_minor": 0,
  "metadata": {
    "colab": {
      "provenance": [],
      "authorship_tag": "ABX9TyOEG4GJOrDomfcR8kXQRFLE",
      "include_colab_link": true
    },
    "kernelspec": {
      "name": "python3",
      "display_name": "Python 3"
    },
    "language_info": {
      "name": "python"
    }
  },
  "cells": [
    {
      "cell_type": "markdown",
      "metadata": {
        "id": "view-in-github",
        "colab_type": "text"
      },
      "source": [
        "<a href=\"https://colab.research.google.com/github/amalvatsa/MyAI-Journey/blob/main/AI8.ipynb\" target=\"_parent\"><img src=\"https://colab.research.google.com/assets/colab-badge.svg\" alt=\"Open In Colab\"/></a>"
      ]
    },
    {
      "cell_type": "code",
      "execution_count": null,
      "metadata": {
        "id": "XK597Gt2Durp"
      },
      "outputs": [],
      "source": [
        "#FORECASTING -VEGTABLE PRICES"
      ]
    },
    {
      "cell_type": "code",
      "source": [
        "import pandas as pd\n",
        "df = pd.read_html('/content/DailyWiseMarketArrivals.html')[-1]\n",
        "df\n"
      ],
      "metadata": {
        "id": "sJV1OhKZI1Z3"
      },
      "execution_count": null,
      "outputs": []
    },
    {
      "cell_type": "code",
      "source": [
        "df.shape\n"
      ],
      "metadata": {
        "colab": {
          "base_uri": "https://localhost:8080/"
        },
        "id": "xMlx2y07mRlT",
        "outputId": "ce57f9c3-daeb-4698-d8e7-b33e6d1efec4"
      },
      "execution_count": null,
      "outputs": [
        {
          "output_type": "execute_result",
          "data": {
            "text/plain": [
              "(4189, 6)"
            ]
          },
          "metadata": {},
          "execution_count": 9
        }
      ]
    },
    {
      "cell_type": "code",
      "source": [
        "df.info()"
      ],
      "metadata": {
        "colab": {
          "base_uri": "https://localhost:8080/"
        },
        "id": "hTvSC5wamUKD",
        "outputId": "4aad66ea-4867-4aaf-cf5d-d4e65d4b2f15"
      },
      "execution_count": null,
      "outputs": [
        {
          "output_type": "stream",
          "name": "stdout",
          "text": [
            "<class 'pandas.core.frame.DataFrame'>\n",
            "RangeIndex: 4189 entries, 0 to 4188\n",
            "Data columns (total 6 columns):\n",
            " #   Column                Non-Null Count  Dtype \n",
            "---  ------                --------------  ----- \n",
            " 0   Date                  4188 non-null   object\n",
            " 1   Market                4189 non-null   object\n",
            " 2   Arrival(q)            4189 non-null   int64 \n",
            " 3   Price Minimum (Rs/q)  4189 non-null   object\n",
            " 4   Price Maximum (Rs/q)  4189 non-null   object\n",
            " 5   Modal Price (Rs/q)    4189 non-null   object\n",
            "dtypes: int64(1), object(5)\n",
            "memory usage: 196.5+ KB\n"
          ]
        }
      ]
    },
    {
      "cell_type": "code",
      "source": [
        "#null value\n",
        "df.isnull().sum()"
      ],
      "metadata": {
        "colab": {
          "base_uri": "https://localhost:8080/"
        },
        "id": "-KLzc3JSmaVD",
        "outputId": "8714cdf0-b2d5-4bf0-efa8-8045d158d86a"
      },
      "execution_count": null,
      "outputs": [
        {
          "output_type": "execute_result",
          "data": {
            "text/plain": [
              "Date                    1\n",
              "Market                  0\n",
              "Arrival(q)              0\n",
              "Price Minimum (Rs/q)    0\n",
              "Price Maximum (Rs/q)    0\n",
              "Modal Price (Rs/q)      0\n",
              "dtype: int64"
            ]
          },
          "metadata": {},
          "execution_count": 13
        }
      ]
    },
    {
      "cell_type": "code",
      "source": [
        "df =df"
      ],
      "metadata": {
        "id": "xSH1X9c5mmPz"
      },
      "execution_count": null,
      "outputs": []
    }
  ]
}